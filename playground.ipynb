{
 "cells": [
  {
   "cell_type": "code",
   "execution_count": 1,
   "metadata": {},
   "outputs": [
    {
     "name": "stderr",
     "output_type": "stream",
     "text": [
      "c:\\Users\\Admin\\AppData\\Local\\Programs\\Python\\Python39\\lib\\site-packages\\tqdm\\auto.py:22: TqdmWarning: IProgress not found. Please update jupyter and ipywidgets. See https://ipywidgets.readthedocs.io/en/stable/user_install.html\n",
      "  from .autonotebook import tqdm as notebook_tqdm\n"
     ]
    }
   ],
   "source": [
    "from src.dataset import OnlineTripletImageDataset\n",
    "from pathlib import Path\n",
    "\n",
    "dataPath = Path('data/menlo')\n",
    "dataset = OnlineTripletImageDataset(dataPath)"
   ]
  },
  {
   "cell_type": "code",
   "execution_count": 2,
   "metadata": {},
   "outputs": [],
   "source": [
    "import torch\n",
    "valSize = int(0.8 * len(dataset))\n",
    "trainSize = len(dataset) - valSize\n",
    "trainSet, valSet = torch.utils.data.random_split(dataset, [trainSize, valSize],\n",
    "                                                generator = torch.Generator().manual_seed(420))"
   ]
  },
  {
   "cell_type": "code",
   "execution_count": null,
   "metadata": {},
   "outputs": [],
   "source": [
    "from src.sampler import OnlineTripletSampler\n",
    "\n",
    "sampler = OnlineTripletSampler(P=P, K=K, data_source = train_set, drop_last = True)\n",
    "dataloader = torch.utils.data.DataLoader(\n",
    "    train_set, \n",
    "    batch_sampler = sampler, \n",
    "    num_workers = 2,\n",
    "    pin_memory = True\n",
    ")"
   ]
  }
 ],
 "metadata": {
  "kernelspec": {
   "display_name": "Python 3",
   "language": "python",
   "name": "python3"
  },
  "language_info": {
   "codemirror_mode": {
    "name": "ipython",
    "version": 3
   },
   "file_extension": ".py",
   "mimetype": "text/x-python",
   "name": "python",
   "nbconvert_exporter": "python",
   "pygments_lexer": "ipython3",
   "version": "3.9.13"
  },
  "orig_nbformat": 4
 },
 "nbformat": 4,
 "nbformat_minor": 2
}
